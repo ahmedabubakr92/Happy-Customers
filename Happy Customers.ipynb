{
 "cells": [
  {
   "cell_type": "markdown",
   "id": "14f9335c",
   "metadata": {},
   "source": [
    "# Happy Customers Project"
   ]
  },
  {
   "cell_type": "markdown",
   "id": "ebda119b",
   "metadata": {},
   "source": [
    "## Background"
   ]
  },
  {
   "cell_type": "markdown",
   "id": "97ed4e98",
   "metadata": {},
   "source": [
    "The company is one the fastest growing logistics and delivery domain. It works with several partners and make on-demand deliveries to its customers. During the COVID-19 pandemic, the company is facing several different challenges and everyday they are trying to address these challenges. "
   ]
  },
  {
   "cell_type": "markdown",
   "id": "67ab4b09",
   "metadata": {},
   "source": [
    "The company thrives on making its customers happy. As a growing startup, with a global expansion strategy they know that they need to make their customers happy and the only way to do that is to measure how happy each customer is. If they can predict what makes their customers happy or unhappy, then they can take the necessary actions.  "
   ]
  },
  {
   "cell_type": "markdown",
   "id": "36565ae4",
   "metadata": {},
   "source": [
    "Getting feedback from customers is not easy either, but the company does its best to get constant feedback from the customers. This is a crucial function the company's operation across all levels."
   ]
  },
  {
   "cell_type": "markdown",
   "id": "e1c3c67f",
   "metadata": {},
   "source": [
    "The company recently did a survey to a select customer cohort resulting in the following dataset."
   ]
  },
  {
   "cell_type": "markdown",
   "id": "9f4c4fdb",
   "metadata": {},
   "source": [
    "The data can be downloaded from:\n",
    "* https://drive.google.com/open?id=1KWE3J0uU_sFIJnZ74Id3FDBcejELI7FD"
   ]
  },
  {
   "cell_type": "markdown",
   "id": "006fd652",
   "metadata": {},
   "source": [
    "## Data Description"
   ]
  },
  {
   "cell_type": "markdown",
   "id": "af07bb38",
   "metadata": {},
   "source": [
    "* Y = target attribute (Y) with values indicating 0 (unhappy) and 1 (happy) customers\n",
    "* X1 = my order was delivered on time\n",
    "* X2 = contents of my order was as I expected\n",
    "* X3 = I ordered everything I wanted to order\n",
    "* X4 = I paid a good price for my order\n",
    "* X5 = I am satisfied with my courier\n",
    "* X6 = the app makes ordering easy for me\n",
    "\n",
    "Attributes X1 to X6 indicate the responses for each question and have values from 1 to 5 where the smaller number indicates less and the higher number indicates more towards the answer."
   ]
  },
  {
   "cell_type": "markdown",
   "id": "d1ba1e6b",
   "metadata": {},
   "source": [
    "## Objective"
   ]
  },
  {
   "cell_type": "markdown",
   "id": "b357e12b",
   "metadata": {},
   "source": [
    "* Predict if a customer is happy or not based on the answers they give to questions asked."
   ]
  },
  {
   "cell_type": "markdown",
   "id": "32f67c89",
   "metadata": {},
   "source": [
    "### Importing Modules and Data"
   ]
  },
  {
   "cell_type": "code",
   "execution_count": 1,
   "id": "39027f1f",
   "metadata": {},
   "outputs": [],
   "source": [
    "# importing libraries\n",
    "\n",
    "import numpy as np\n",
    "import pandas as pd\n",
    "import matplotlib.pyplot as plt\n",
    "import seaborn as sns\n",
    "%matplotlib inline"
   ]
  },
  {
   "cell_type": "code",
   "execution_count": 5,
   "id": "b3da2424",
   "metadata": {},
   "outputs": [
    {
     "data": {
      "text/html": [
       "<div>\n",
       "<style scoped>\n",
       "    .dataframe tbody tr th:only-of-type {\n",
       "        vertical-align: middle;\n",
       "    }\n",
       "\n",
       "    .dataframe tbody tr th {\n",
       "        vertical-align: top;\n",
       "    }\n",
       "\n",
       "    .dataframe thead th {\n",
       "        text-align: right;\n",
       "    }\n",
       "</style>\n",
       "<table border=\"1\" class=\"dataframe\">\n",
       "  <thead>\n",
       "    <tr style=\"text-align: right;\">\n",
       "      <th></th>\n",
       "      <th>Y</th>\n",
       "      <th>X1</th>\n",
       "      <th>X2</th>\n",
       "      <th>X3</th>\n",
       "      <th>X4</th>\n",
       "      <th>X5</th>\n",
       "      <th>X6</th>\n",
       "    </tr>\n",
       "  </thead>\n",
       "  <tbody>\n",
       "    <tr>\n",
       "      <th>0</th>\n",
       "      <td>0</td>\n",
       "      <td>3</td>\n",
       "      <td>3</td>\n",
       "      <td>3</td>\n",
       "      <td>4</td>\n",
       "      <td>2</td>\n",
       "      <td>4</td>\n",
       "    </tr>\n",
       "    <tr>\n",
       "      <th>1</th>\n",
       "      <td>0</td>\n",
       "      <td>3</td>\n",
       "      <td>2</td>\n",
       "      <td>3</td>\n",
       "      <td>5</td>\n",
       "      <td>4</td>\n",
       "      <td>3</td>\n",
       "    </tr>\n",
       "    <tr>\n",
       "      <th>2</th>\n",
       "      <td>1</td>\n",
       "      <td>5</td>\n",
       "      <td>3</td>\n",
       "      <td>3</td>\n",
       "      <td>3</td>\n",
       "      <td>3</td>\n",
       "      <td>5</td>\n",
       "    </tr>\n",
       "    <tr>\n",
       "      <th>3</th>\n",
       "      <td>0</td>\n",
       "      <td>5</td>\n",
       "      <td>4</td>\n",
       "      <td>3</td>\n",
       "      <td>3</td>\n",
       "      <td>3</td>\n",
       "      <td>5</td>\n",
       "    </tr>\n",
       "    <tr>\n",
       "      <th>4</th>\n",
       "      <td>0</td>\n",
       "      <td>5</td>\n",
       "      <td>4</td>\n",
       "      <td>3</td>\n",
       "      <td>3</td>\n",
       "      <td>3</td>\n",
       "      <td>5</td>\n",
       "    </tr>\n",
       "    <tr>\n",
       "      <th>5</th>\n",
       "      <td>1</td>\n",
       "      <td>5</td>\n",
       "      <td>5</td>\n",
       "      <td>3</td>\n",
       "      <td>5</td>\n",
       "      <td>5</td>\n",
       "      <td>5</td>\n",
       "    </tr>\n",
       "    <tr>\n",
       "      <th>6</th>\n",
       "      <td>0</td>\n",
       "      <td>3</td>\n",
       "      <td>1</td>\n",
       "      <td>2</td>\n",
       "      <td>2</td>\n",
       "      <td>1</td>\n",
       "      <td>3</td>\n",
       "    </tr>\n",
       "    <tr>\n",
       "      <th>7</th>\n",
       "      <td>1</td>\n",
       "      <td>5</td>\n",
       "      <td>4</td>\n",
       "      <td>4</td>\n",
       "      <td>4</td>\n",
       "      <td>4</td>\n",
       "      <td>5</td>\n",
       "    </tr>\n",
       "    <tr>\n",
       "      <th>8</th>\n",
       "      <td>0</td>\n",
       "      <td>4</td>\n",
       "      <td>1</td>\n",
       "      <td>4</td>\n",
       "      <td>4</td>\n",
       "      <td>4</td>\n",
       "      <td>4</td>\n",
       "    </tr>\n",
       "    <tr>\n",
       "      <th>9</th>\n",
       "      <td>0</td>\n",
       "      <td>4</td>\n",
       "      <td>4</td>\n",
       "      <td>4</td>\n",
       "      <td>2</td>\n",
       "      <td>5</td>\n",
       "      <td>5</td>\n",
       "    </tr>\n",
       "  </tbody>\n",
       "</table>\n",
       "</div>"
      ],
      "text/plain": [
       "   Y  X1  X2  X3  X4  X5  X6\n",
       "0  0   3   3   3   4   2   4\n",
       "1  0   3   2   3   5   4   3\n",
       "2  1   5   3   3   3   3   5\n",
       "3  0   5   4   3   3   3   5\n",
       "4  0   5   4   3   3   3   5\n",
       "5  1   5   5   3   5   5   5\n",
       "6  0   3   1   2   2   1   3\n",
       "7  1   5   4   4   4   4   5\n",
       "8  0   4   1   4   4   4   4\n",
       "9  0   4   4   4   2   5   5"
      ]
     },
     "execution_count": 5,
     "metadata": {},
     "output_type": "execute_result"
    }
   ],
   "source": [
    "# load and view dataset\n",
    "\n",
    "data = pd.read_csv('ACME-HappinessSurvey2020.csv')\n",
    "data.head(10)"
   ]
  },
  {
   "cell_type": "markdown",
   "id": "5159d637",
   "metadata": {},
   "source": [
    "### Data Exploration"
   ]
  },
  {
   "cell_type": "code",
   "execution_count": 7,
   "id": "bca88d1c",
   "metadata": {},
   "outputs": [
    {
     "data": {
      "text/plain": [
       "(126, 7)"
      ]
     },
     "execution_count": 7,
     "metadata": {},
     "output_type": "execute_result"
    }
   ],
   "source": [
    "# rows and columns of dataset\n",
    "\n",
    "data.shape"
   ]
  },
  {
   "cell_type": "code",
   "execution_count": 6,
   "id": "62b8f3fa",
   "metadata": {},
   "outputs": [
    {
     "name": "stdout",
     "output_type": "stream",
     "text": [
      "<class 'pandas.core.frame.DataFrame'>\n",
      "RangeIndex: 126 entries, 0 to 125\n",
      "Data columns (total 7 columns):\n",
      " #   Column  Non-Null Count  Dtype\n",
      "---  ------  --------------  -----\n",
      " 0   Y       126 non-null    int64\n",
      " 1   X1      126 non-null    int64\n",
      " 2   X2      126 non-null    int64\n",
      " 3   X3      126 non-null    int64\n",
      " 4   X4      126 non-null    int64\n",
      " 5   X5      126 non-null    int64\n",
      " 6   X6      126 non-null    int64\n",
      "dtypes: int64(7)\n",
      "memory usage: 7.0 KB\n"
     ]
    }
   ],
   "source": [
    "# information of the dataset\n",
    "\n",
    "data.info()"
   ]
  },
  {
   "cell_type": "code",
   "execution_count": 72,
   "id": "e9366ad7",
   "metadata": {},
   "outputs": [
    {
     "data": {
      "text/html": [
       "<div>\n",
       "<style scoped>\n",
       "    .dataframe tbody tr th:only-of-type {\n",
       "        vertical-align: middle;\n",
       "    }\n",
       "\n",
       "    .dataframe tbody tr th {\n",
       "        vertical-align: top;\n",
       "    }\n",
       "\n",
       "    .dataframe thead th {\n",
       "        text-align: right;\n",
       "    }\n",
       "</style>\n",
       "<table border=\"1\" class=\"dataframe\">\n",
       "  <thead>\n",
       "    <tr style=\"text-align: right;\">\n",
       "      <th></th>\n",
       "      <th>Y</th>\n",
       "      <th>X1</th>\n",
       "      <th>X2</th>\n",
       "      <th>X3</th>\n",
       "      <th>X4</th>\n",
       "      <th>X5</th>\n",
       "      <th>X6</th>\n",
       "    </tr>\n",
       "  </thead>\n",
       "  <tbody>\n",
       "    <tr>\n",
       "      <th>count</th>\n",
       "      <td>126.000000</td>\n",
       "      <td>126.000000</td>\n",
       "      <td>126.000000</td>\n",
       "      <td>126.000000</td>\n",
       "      <td>126.000000</td>\n",
       "      <td>126.000000</td>\n",
       "      <td>126.000000</td>\n",
       "    </tr>\n",
       "    <tr>\n",
       "      <th>mean</th>\n",
       "      <td>0.547619</td>\n",
       "      <td>4.333333</td>\n",
       "      <td>2.531746</td>\n",
       "      <td>3.309524</td>\n",
       "      <td>3.746032</td>\n",
       "      <td>3.650794</td>\n",
       "      <td>4.253968</td>\n",
       "    </tr>\n",
       "    <tr>\n",
       "      <th>std</th>\n",
       "      <td>0.499714</td>\n",
       "      <td>0.800000</td>\n",
       "      <td>1.114892</td>\n",
       "      <td>1.023440</td>\n",
       "      <td>0.875776</td>\n",
       "      <td>1.147641</td>\n",
       "      <td>0.809311</td>\n",
       "    </tr>\n",
       "    <tr>\n",
       "      <th>min</th>\n",
       "      <td>0.000000</td>\n",
       "      <td>1.000000</td>\n",
       "      <td>1.000000</td>\n",
       "      <td>1.000000</td>\n",
       "      <td>1.000000</td>\n",
       "      <td>1.000000</td>\n",
       "      <td>1.000000</td>\n",
       "    </tr>\n",
       "    <tr>\n",
       "      <th>25%</th>\n",
       "      <td>0.000000</td>\n",
       "      <td>4.000000</td>\n",
       "      <td>2.000000</td>\n",
       "      <td>3.000000</td>\n",
       "      <td>3.000000</td>\n",
       "      <td>3.000000</td>\n",
       "      <td>4.000000</td>\n",
       "    </tr>\n",
       "    <tr>\n",
       "      <th>50%</th>\n",
       "      <td>1.000000</td>\n",
       "      <td>5.000000</td>\n",
       "      <td>3.000000</td>\n",
       "      <td>3.000000</td>\n",
       "      <td>4.000000</td>\n",
       "      <td>4.000000</td>\n",
       "      <td>4.000000</td>\n",
       "    </tr>\n",
       "    <tr>\n",
       "      <th>75%</th>\n",
       "      <td>1.000000</td>\n",
       "      <td>5.000000</td>\n",
       "      <td>3.000000</td>\n",
       "      <td>4.000000</td>\n",
       "      <td>4.000000</td>\n",
       "      <td>4.000000</td>\n",
       "      <td>5.000000</td>\n",
       "    </tr>\n",
       "    <tr>\n",
       "      <th>max</th>\n",
       "      <td>1.000000</td>\n",
       "      <td>5.000000</td>\n",
       "      <td>5.000000</td>\n",
       "      <td>5.000000</td>\n",
       "      <td>5.000000</td>\n",
       "      <td>5.000000</td>\n",
       "      <td>5.000000</td>\n",
       "    </tr>\n",
       "  </tbody>\n",
       "</table>\n",
       "</div>"
      ],
      "text/plain": [
       "                Y          X1          X2          X3          X4          X5  \\\n",
       "count  126.000000  126.000000  126.000000  126.000000  126.000000  126.000000   \n",
       "mean     0.547619    4.333333    2.531746    3.309524    3.746032    3.650794   \n",
       "std      0.499714    0.800000    1.114892    1.023440    0.875776    1.147641   \n",
       "min      0.000000    1.000000    1.000000    1.000000    1.000000    1.000000   \n",
       "25%      0.000000    4.000000    2.000000    3.000000    3.000000    3.000000   \n",
       "50%      1.000000    5.000000    3.000000    3.000000    4.000000    4.000000   \n",
       "75%      1.000000    5.000000    3.000000    4.000000    4.000000    4.000000   \n",
       "max      1.000000    5.000000    5.000000    5.000000    5.000000    5.000000   \n",
       "\n",
       "               X6  \n",
       "count  126.000000  \n",
       "mean     4.253968  \n",
       "std      0.809311  \n",
       "min      1.000000  \n",
       "25%      4.000000  \n",
       "50%      4.000000  \n",
       "75%      5.000000  \n",
       "max      5.000000  "
      ]
     },
     "execution_count": 72,
     "metadata": {},
     "output_type": "execute_result"
    }
   ],
   "source": [
    "# description of the dataset\n",
    "data.describe()"
   ]
  },
  {
   "cell_type": "code",
   "execution_count": 11,
   "id": "9bb02295",
   "metadata": {},
   "outputs": [
    {
     "name": "stdout",
     "output_type": "stream",
     "text": [
      "X1 unique numbers: [3 5 4 1]\n",
      "X2 unique numbers: [3 2 4 5 1]\n",
      "X3 unique numbers: [3 2 4 5 1]\n",
      "X4 unique numbers: [4 5 3 2 1]\n",
      "X5 unique numbers: [2 4 3 5 1]\n"
     ]
    }
   ],
   "source": [
    "# checking the range of the data columns\n",
    "\n",
    "print(\"X1 unique numbers:\",data['X1'].unique())\n",
    "print(\"X2 unique numbers:\",data['X2'].unique())\n",
    "print(\"X3 unique numbers:\",data['X3'].unique())\n",
    "print(\"X4 unique numbers:\",data['X4'].unique())\n",
    "print(\"X5 unique numbers:\",data['X5'].unique())"
   ]
  },
  {
   "cell_type": "code",
   "execution_count": 25,
   "id": "7c9295e7",
   "metadata": {},
   "outputs": [
    {
     "name": "stderr",
     "output_type": "stream",
     "text": [
      "/opt/anaconda3/lib/python3.9/site-packages/seaborn/_decorators.py:36: FutureWarning: Pass the following variable as a keyword arg: x. From version 0.12, the only valid positional argument will be `data`, and passing other arguments without an explicit keyword will result in an error or misinterpretation.\n",
      "  warnings.warn(\n"
     ]
    },
    {
     "data": {
      "image/png": "[encoded data removed]",
      "text/plain": [
       "<Figure size 720x720 with 1 Axes>"
      ]
     },
     "metadata": {
      "needs_background": "light"
     },
     "output_type": "display_data"
    }
   ],
   "source": [
    "# bar plot of X1 (my order was delivered on time)\n",
    "plt.figure(figsize=(10,10))\n",
    "sns.countplot(data['X1'])\n",
    "plt.xlabel(\"my order was delivered on time\", size=20)\n",
    "plt.ylabel(\"Count\", size=20)\n",
    "plt.title(\"Count of Customer Satisfaction on the Time of Delivery\", size=20)\n",
    "plt.show()"
   ]
  },
  {
   "cell_type": "code",
   "execution_count": 27,
   "id": "ea4173f0",
   "metadata": {},
   "outputs": [
    {
     "name": "stderr",
     "output_type": "stream",
     "text": [
      "/opt/anaconda3/lib/python3.9/site-packages/seaborn/_decorators.py:36: FutureWarning: Pass the following variable as a keyword arg: x. From version 0.12, the only valid positional argument will be `data`, and passing other arguments without an explicit keyword will result in an error or misinterpretation.\n",
      "  warnings.warn(\n"
     ]
    },
    {
     "data": {
      "image/png": "[encoded data removed]",
      "text/plain": [
       "<Figure size 720x720 with 1 Axes>"
      ]
     },
     "metadata": {
      "needs_background": "light"
     },
     "output_type": "display_data"
    }
   ],
   "source": [
    "# bar plot of X2 (contents of my order was as I expected)\n",
    "plt.figure(figsize=(10,10))\n",
    "sns.countplot(data['X2'])\n",
    "plt.xlabel(\"contents of my order was as I expected\", size=20)\n",
    "plt.ylabel(\"Count\", size=20)\n",
    "plt.title(\"Count of Customer Satisfaction on the Contents of the Order\", size=20)\n",
    "plt.show()"
   ]
  },
  {
   "cell_type": "code",
   "execution_count": 28,
   "id": "2c09a090",
   "metadata": {},
   "outputs": [
    {
     "name": "stderr",
     "output_type": "stream",
     "text": [
      "/opt/anaconda3/lib/python3.9/site-packages/seaborn/_decorators.py:36: FutureWarning: Pass the following variable as a keyword arg: x. From version 0.12, the only valid positional argument will be `data`, and passing other arguments without an explicit keyword will result in an error or misinterpretation.\n",
      "  warnings.warn(\n"
     ]
    },
    {
     "data": {
      "image/png": "[encoded data removed]",
      "text/plain": [
       "<Figure size 720x720 with 1 Axes>"
      ]
     },
     "metadata": {
      "needs_background": "light"
     },
     "output_type": "display_data"
    }
   ],
   "source": [
    "# bar plot of X3 (I ordered everything I wanted to order)\n",
    "plt.figure(figsize=(10,10))\n",
    "sns.countplot(data['X3'])\n",
    "plt.xlabel(\"I ordered everything I wanted to order\", size=20)\n",
    "plt.ylabel(\"Count\", size=20)\n",
    "plt.title(\"Count of Customer Satisfaction on the Contents of the Order\", size=20)\n",
    "plt.show()"
   ]
  },
  {
   "cell_type": "code",
   "execution_count": 73,
   "id": "d6b8d32a",
   "metadata": {},
   "outputs": [
    {
     "name": "stderr",
     "output_type": "stream",
     "text": [
      "/opt/anaconda3/lib/python3.9/site-packages/seaborn/_decorators.py:36: FutureWarning: Pass the following variable as a keyword arg: x. From version 0.12, the only valid positional argument will be `data`, and passing other arguments without an explicit keyword will result in an error or misinterpretation.\n",
      "  warnings.warn(\n"
     ]
    },
    {
     "data": {
      "image/png": "[encoded data removed]",
      "text/plain": [
       "<Figure size 720x720 with 1 Axes>"
      ]
     },
     "metadata": {
      "needs_background": "light"
     },
     "output_type": "display_data"
    }
   ],
   "source": [
    "# bar plot of X4 (I paid a good price for my order)\n",
    "plt.figure(figsize=(10,10))\n",
    "sns.countplot(data['X4'])\n",
    "plt.xlabel(\"I paid a good price for my order\", size=20)\n",
    "plt.ylabel(\"Count\", size=20)\n",
    "plt.title(\"Count of Customer Satisfaction on the Price Paid for the Order\", size=20)\n",
    "plt.show()"
   ]
  },
  {
   "cell_type": "code",
   "execution_count": 31,
   "id": "d18fef82",
   "metadata": {},
   "outputs": [
    {
     "name": "stderr",
     "output_type": "stream",
     "text": [
      "/opt/anaconda3/lib/python3.9/site-packages/seaborn/_decorators.py:36: FutureWarning: Pass the following variable as a keyword arg: x. From version 0.12, the only valid positional argument will be `data`, and passing other arguments without an explicit keyword will result in an error or misinterpretation.\n",
      "  warnings.warn(\n"
     ]
    },
    {
     "data": {
      "image/png": "[encoded data removed]",
      "text/plain": [
       "<Figure size 720x720 with 1 Axes>"
      ]
     },
     "metadata": {
      "needs_background": "light"
     },
     "output_type": "display_data"
    }
   ],
   "source": [
    "# bar plot of X5 (I am satisfied with my courier)\n",
    "plt.figure(figsize=(10,10))\n",
    "sns.countplot(data['X5'])\n",
    "plt.xlabel(\"I am satisfied with my courier\", size=20)\n",
    "plt.ylabel(\"Count\", size=20)\n",
    "plt.title(\"Count of Customer Satisifaction of Courier\", size=20)\n",
    "plt.show()"
   ]
  },
  {
   "cell_type": "code",
   "execution_count": 32,
   "id": "168e1634",
   "metadata": {},
   "outputs": [
    {
     "name": "stderr",
     "output_type": "stream",
     "text": [
      "/opt/anaconda3/lib/python3.9/site-packages/seaborn/_decorators.py:36: FutureWarning: Pass the following variable as a keyword arg: x. From version 0.12, the only valid positional argument will be `data`, and passing other arguments without an explicit keyword will result in an error or misinterpretation.\n",
      "  warnings.warn(\n"
     ]
    },
    {
     "data": {
      "image/png": "[encoded data removed]",
      "text/plain": [
       "<Figure size 720x720 with 1 Axes>"
      ]
     },
     "metadata": {
      "needs_background": "light"
     },
     "output_type": "display_data"
    }
   ],
   "source": [
    "# bar plot of X6 (the app makes ordering easy for me)\n",
    "plt.figure(figsize=(10,10))\n",
    "sns.countplot(data['X6'])\n",
    "plt.xlabel(\"the app makes ordering easy for me\", size=20)\n",
    "plt.ylabel(\"Count\", size=20)\n",
    "plt.title(\"Count of Customer Satisfaction of the App\", size=20)\n",
    "plt.show()"
   ]
  },
  {
   "cell_type": "code",
   "execution_count": 34,
   "id": "daa5efa7",
   "metadata": {},
   "outputs": [
    {
     "data": {
      "text/plain": [
       "1    69\n",
       "0    57\n",
       "Name: Y, dtype: int64"
      ]
     },
     "execution_count": 34,
     "metadata": {},
     "output_type": "execute_result"
    }
   ],
   "source": [
    "# target variable distribution\n",
    "data['Y'].value_counts()"
   ]
  },
  {
   "cell_type": "code",
   "execution_count": 42,
   "id": "fbb98c22",
   "metadata": {},
   "outputs": [
    {
     "name": "stderr",
     "output_type": "stream",
     "text": [
      "/opt/anaconda3/lib/python3.9/site-packages/seaborn/_decorators.py:36: FutureWarning: Pass the following variable as a keyword arg: x. From version 0.12, the only valid positional argument will be `data`, and passing other arguments without an explicit keyword will result in an error or misinterpretation.\n",
      "  warnings.warn(\n"
     ]
    },
    {
     "data": {
      "image/png": "[encoded data removed]",
      "text/plain": [
       "<Figure size 720x720 with 1 Axes>"
      ]
     },
     "metadata": {
      "needs_background": "light"
     },
     "output_type": "display_data"
    }
   ],
   "source": [
    "# bar plot of target variable (0 (unhappy) and 1 (happy) customers)\n",
    "plt.figure(figsize=(10,10))\n",
    "sns.countplot(data['Y'])\n",
    "plt.xlabel(\"0 (Unhappy) 1, (Happy) Customer\", size=20)\n",
    "plt.ylabel(\"Count\", size=20)\n",
    "plt.title(\"Target Variable Distribution\", size=20)\n",
    "plt.show()"
   ]
  },
  {
   "cell_type": "code",
   "execution_count": 45,
   "id": "edc4fcc9",
   "metadata": {},
   "outputs": [
    {
     "data": {
      "image/png": "[encoded data removed]",
      "text/plain": [
       "<Figure size 720x720 with 2 Axes>"
      ]
     },
     "metadata": {
      "needs_background": "light"
     },
     "output_type": "display_data"
    }
   ],
   "source": [
    "# correlations using heatmap\n",
    "plt.figure(figsize=(10,10))\n",
    "sns.heatmap(data.corr(), annot=True, cmap='Blues')\n",
    "plt.show()"
   ]
  },
  {
   "cell_type": "markdown",
   "id": "af4c0c50",
   "metadata": {},
   "source": [
    "From the correlation heatmap, the target variable correlation with X2 and X4 is very small, as it'll have little to no effect in the classification of the target variable."
   ]
  },
  {
   "cell_type": "markdown",
   "id": "a2a774b6",
   "metadata": {},
   "source": [
    "### Train and Test Split"
   ]
  },
  {
   "cell_type": "code",
   "execution_count": 47,
   "id": "1426e734",
   "metadata": {},
   "outputs": [],
   "source": [
    "# split data into features and target variable\n",
    "X = data.drop(columns=['Y'])\n",
    "y = data['Y']"
   ]
  },
  {
   "cell_type": "code",
   "execution_count": 184,
   "id": "82c8e8cc",
   "metadata": {},
   "outputs": [
    {
     "name": "stdout",
     "output_type": "stream",
     "text": [
      "X shape is: (126, 6)\n",
      "y shape is: (126,)\n"
     ]
    }
   ],
   "source": [
    "# X and y shapes\n",
    "print(\"X shape is:\",X.shape)\n",
    "print(\"y shape is:\",y.shape)"
   ]
  },
  {
   "cell_type": "code",
   "execution_count": 76,
   "id": "3b2309c3",
   "metadata": {},
   "outputs": [],
   "source": [
    "# train and test split\n",
    "from sklearn.model_selection import train_test_split\n",
    "X_train, X_test, y_train, y_test = train_test_split(X, y, test_size=0.2, random_state=42)"
   ]
  },
  {
   "cell_type": "code",
   "execution_count": 77,
   "id": "5c278c25",
   "metadata": {},
   "outputs": [
    {
     "name": "stdout",
     "output_type": "stream",
     "text": [
      "X_train data shape is (100, 4)\n",
      "X_test data shape is (26, 4)\n",
      "y_train data shape is (100,)\n",
      "y_test data shape is (26,)\n"
     ]
    }
   ],
   "source": [
    "print(\"X_train data shape is\",X_train.shape)\n",
    "print(\"X_test data shape is\",X_test.shape)\n",
    "print(\"y_train data shape is\",y_train.shape)\n",
    "print(\"y_test data shape is\",y_test.shape)"
   ]
  },
  {
   "cell_type": "markdown",
   "id": "51fea3f8",
   "metadata": {},
   "source": [
    "### Logistic Regression"
   ]
  },
  {
   "cell_type": "code",
   "execution_count": 122,
   "id": "f0768979",
   "metadata": {},
   "outputs": [],
   "source": [
    "# split data into features and target variable\n",
    "X = data.drop(columns=['Y'])\n",
    "y = data['Y']"
   ]
  },
  {
   "cell_type": "code",
   "execution_count": 156,
   "id": "7dc3acda",
   "metadata": {},
   "outputs": [],
   "source": [
    "# train and test split\n",
    "X_train, X_test, y_train, y_test = train_test_split(X, y, test_size=0.2, random_state=42)"
   ]
  },
  {
   "cell_type": "code",
   "execution_count": 157,
   "id": "a5ed4f4e",
   "metadata": {},
   "outputs": [
    {
     "data": {
      "text/plain": [
       "LogisticRegression()"
      ]
     },
     "execution_count": 157,
     "metadata": {},
     "output_type": "execute_result"
    }
   ],
   "source": [
    "# logistic regression model\n",
    "from sklearn.linear_model import LogisticRegression\n",
    "lr = LogisticRegression()\n",
    "lr.fit(X_train, y_train)"
   ]
  },
  {
   "cell_type": "code",
   "execution_count": 158,
   "id": "12ee49ab",
   "metadata": {},
   "outputs": [
    {
     "name": "stdout",
     "output_type": "stream",
     "text": [
      "Accuracy Score: 0.462\n"
     ]
    }
   ],
   "source": [
    "# accuracy score\n",
    "from sklearn.metrics import accuracy_score\n",
    "y_pred = lr.predict(X_test)\n",
    "print(f\"Accuracy Score: {accuracy_score(y_test, y_pred):.3f}\")"
   ]
  },
  {
   "cell_type": "code",
   "execution_count": 159,
   "id": "105b557c",
   "metadata": {},
   "outputs": [],
   "source": [
    "# Removing variables X2 and X4\n",
    "X = data[['X1','X3', 'X5', 'X6']]\n",
    "y = data['Y']"
   ]
  },
  {
   "cell_type": "code",
   "execution_count": 160,
   "id": "66859d06",
   "metadata": {},
   "outputs": [],
   "source": [
    "# train and test split\n",
    "X_train, X_test, y_train, y_test = train_test_split(X, y, test_size=0.2, random_state=42)"
   ]
  },
  {
   "cell_type": "code",
   "execution_count": 161,
   "id": "2b882840",
   "metadata": {},
   "outputs": [
    {
     "name": "stdout",
     "output_type": "stream",
     "text": [
      "Accuracy Score: 0.462\n"
     ]
    }
   ],
   "source": [
    "# fitting the model\n",
    "lr.fit(X_train, y_train)\n",
    "y_pred = lr.predict(X_test)\n",
    "print(f\"Accuracy Score: {accuracy_score(y_test, y_pred):.3f}\")"
   ]
  },
  {
   "cell_type": "markdown",
   "id": "bb91190b",
   "metadata": {},
   "source": [
    "### Decision Tree"
   ]
  },
  {
   "cell_type": "code",
   "execution_count": 150,
   "id": "f18c29a7",
   "metadata": {},
   "outputs": [],
   "source": [
    "# split data into features and target variable\n",
    "X = data.drop(columns=['Y'])\n",
    "y = data['Y']"
   ]
  },
  {
   "cell_type": "code",
   "execution_count": 151,
   "id": "1f5de952",
   "metadata": {},
   "outputs": [],
   "source": [
    "# train and test split\n",
    "X_train, X_test, y_train, y_test = train_test_split(X, y, test_size=0.2, random_state=42)"
   ]
  },
  {
   "cell_type": "code",
   "execution_count": 152,
   "id": "f1710cd8",
   "metadata": {},
   "outputs": [
    {
     "name": "stdout",
     "output_type": "stream",
     "text": [
      "Accuracy Score: 0.615\n"
     ]
    }
   ],
   "source": [
    "# decision tree model\n",
    "from sklearn.tree import DecisionTreeClassifier\n",
    "tree = DecisionTreeClassifier()\n",
    "tree.fit(X_train, y_train)\n",
    "y_pred = tree.predict(X_test)\n",
    "print(f\"Accuracy Score: {accuracy_score(y_test, y_pred):.3f}\")"
   ]
  },
  {
   "cell_type": "code",
   "execution_count": 153,
   "id": "4b7c02a2",
   "metadata": {},
   "outputs": [],
   "source": [
    "# Removing variables X2 and X4\n",
    "X = data[['X1','X3', 'X5', 'X6']]\n",
    "y = data['Y']"
   ]
  },
  {
   "cell_type": "code",
   "execution_count": 154,
   "id": "01b1aca7",
   "metadata": {},
   "outputs": [],
   "source": [
    "# train and test split\n",
    "X_train, X_test, y_train, y_test = train_test_split(X, y, test_size=0.2, random_state=42)"
   ]
  },
  {
   "cell_type": "code",
   "execution_count": 155,
   "id": "d56dff6b",
   "metadata": {},
   "outputs": [
    {
     "name": "stdout",
     "output_type": "stream",
     "text": [
      "Accuracy Score: 0.654\n"
     ]
    }
   ],
   "source": [
    "# fitting the model\n",
    "tree.fit(X_train, y_train)\n",
    "y_pred = tree.predict(X_test)\n",
    "print(f\"Accuracy Score: {accuracy_score(y_test, y_pred):.3f}\")"
   ]
  },
  {
   "cell_type": "markdown",
   "id": "e45a998a",
   "metadata": {},
   "source": [
    "### Support Vector Machine"
   ]
  },
  {
   "cell_type": "code",
   "execution_count": 133,
   "id": "2e60ef17",
   "metadata": {},
   "outputs": [],
   "source": [
    "# split data into features and target variable\n",
    "X = data.drop(columns=['Y'])\n",
    "y = data['Y']"
   ]
  },
  {
   "cell_type": "code",
   "execution_count": 140,
   "id": "446fc56a",
   "metadata": {},
   "outputs": [],
   "source": [
    "# train and test split\n",
    "X_train, X_test, y_train, y_test = train_test_split(X, y, test_size=0.2, random_state=42)"
   ]
  },
  {
   "cell_type": "code",
   "execution_count": 141,
   "id": "f3bd844f",
   "metadata": {},
   "outputs": [
    {
     "name": "stdout",
     "output_type": "stream",
     "text": [
      "Accuracy Score: 0.462\n"
     ]
    }
   ],
   "source": [
    "# support vector machine model\n",
    "from sklearn.svm import SVC\n",
    "svc = SVC()\n",
    "svc.fit(X_train, y_train)\n",
    "y_pred = svc.predict(X_test)\n",
    "print(f\"Accuracy Score: {accuracy_score(y_test, y_pred):.3f}\")"
   ]
  },
  {
   "cell_type": "code",
   "execution_count": 142,
   "id": "122a95c3",
   "metadata": {},
   "outputs": [],
   "source": [
    "# Removing variables X2 and X4\n",
    "X = data[['X1','X3', 'X5', 'X6']]\n",
    "y = data['Y']"
   ]
  },
  {
   "cell_type": "code",
   "execution_count": 143,
   "id": "7393a50b",
   "metadata": {},
   "outputs": [],
   "source": [
    "# train and test split\n",
    "X_train, X_test, y_train, y_test = train_test_split(X, y, test_size=0.2, random_state=42)"
   ]
  },
  {
   "cell_type": "code",
   "execution_count": 144,
   "id": "efcef10d",
   "metadata": {},
   "outputs": [
    {
     "name": "stdout",
     "output_type": "stream",
     "text": [
      "Accuracy Score: 0.500\n"
     ]
    }
   ],
   "source": [
    "# fitting the model\n",
    "svc.fit(X_train, y_train)\n",
    "y_pred = svc.predict(X_test)\n",
    "print(f\"Accuracy Score: {accuracy_score(y_test, y_pred):.3f}\")"
   ]
  },
  {
   "cell_type": "markdown",
   "id": "c4bc9048",
   "metadata": {},
   "source": [
    "### Naive Bayes"
   ]
  },
  {
   "cell_type": "code",
   "execution_count": 138,
   "id": "7704f2c0",
   "metadata": {},
   "outputs": [],
   "source": [
    "# split data into features and target variable\n",
    "X = data.drop(columns=['Y'])\n",
    "y = data['Y']"
   ]
  },
  {
   "cell_type": "code",
   "execution_count": 166,
   "id": "04324042",
   "metadata": {},
   "outputs": [],
   "source": [
    "# train and test split\n",
    "X_train, X_test, y_train, y_test = train_test_split(X, y, test_size=0.2, random_state=42)"
   ]
  },
  {
   "cell_type": "code",
   "execution_count": 167,
   "id": "c328fe43",
   "metadata": {},
   "outputs": [
    {
     "name": "stdout",
     "output_type": "stream",
     "text": [
      "Accuracy Score: 0.423\n"
     ]
    }
   ],
   "source": [
    "# naive bayes model\n",
    "from sklearn.naive_bayes import GaussianNB\n",
    "gnb = GaussianNB()\n",
    "gnb.fit(X_train, y_train)\n",
    "y_pred = gnb.predict(X_test)\n",
    "print(f\"Accuracy Score: {accuracy_score(y_test, y_pred):.3f}\")"
   ]
  },
  {
   "cell_type": "code",
   "execution_count": 168,
   "id": "e37519b7",
   "metadata": {},
   "outputs": [],
   "source": [
    "# Removing variables X2 and X4\n",
    "X = data[['X1','X3', 'X5', 'X6']]\n",
    "y = data['Y']"
   ]
  },
  {
   "cell_type": "code",
   "execution_count": 169,
   "id": "26f6a6bf",
   "metadata": {},
   "outputs": [],
   "source": [
    "# train and test split\n",
    "X_train, X_test, y_train, y_test = train_test_split(X, y, test_size=0.2, random_state=42)"
   ]
  },
  {
   "cell_type": "code",
   "execution_count": 170,
   "id": "139f890b",
   "metadata": {},
   "outputs": [
    {
     "name": "stdout",
     "output_type": "stream",
     "text": [
      "Accuracy Score: 0.423\n"
     ]
    }
   ],
   "source": [
    "# fitting the model\n",
    "gnb.fit(X_train, y_train)\n",
    "y_pred = gnb.predict(X_test)\n",
    "print(f\"Accuracy Score: {accuracy_score(y_test, y_pred):.3f}\")"
   ]
  },
  {
   "cell_type": "markdown",
   "id": "05e935da",
   "metadata": {},
   "source": [
    "From the different accuracy score of various models, the decision tree resulted in the best accuracy. I'd like to try it first with the whole features to see if there's any difference."
   ]
  },
  {
   "cell_type": "markdown",
   "id": "30af031f",
   "metadata": {},
   "source": [
    "### K-Nearest Neighbor"
   ]
  },
  {
   "cell_type": "code",
   "execution_count": 182,
   "id": "f785a836",
   "metadata": {},
   "outputs": [],
   "source": [
    "# split data into features and target variable\n",
    "X = data.drop(columns=['Y'])\n",
    "y = data['Y']"
   ]
  },
  {
   "cell_type": "code",
   "execution_count": 183,
   "id": "4f679447",
   "metadata": {},
   "outputs": [],
   "source": [
    "# train and test split\n",
    "X_train, X_test, y_train, y_test = train_test_split(X, y, test_size=0.2, random_state=42)"
   ]
  },
  {
   "cell_type": "code",
   "execution_count": 191,
   "id": "2d1c8be6",
   "metadata": {},
   "outputs": [],
   "source": [
    "# K-Nearest Neighbor Classifier\n",
    "from sklearn.neighbors import KNeighborsClassifier\n",
    "\n",
    "#running from k=1 through k=25 and recording accuracy score\n",
    "k_ranges = range(1,26)\n",
    "scores = {}\n",
    "scores_list = []\n",
    "for k in k_ranges:\n",
    "    knn = KNeighborsClassifier(n_neighbors=k)\n",
    "    knn.fit(X_train, y_train)\n",
    "    y_pred = knn.predict(X_test)\n",
    "    scores[k] = accuracy_score(y_test, y_pred)\n",
    "    scores_list.append(accuracy_score(y_test, y_pred))"
   ]
  },
  {
   "cell_type": "code",
   "execution_count": 201,
   "id": "9cf947d7",
   "metadata": {},
   "outputs": [
    {
     "name": "stderr",
     "output_type": "stream",
     "text": [
      "/opt/anaconda3/lib/python3.9/site-packages/seaborn/_decorators.py:36: FutureWarning: Pass the following variables as keyword args: x, y. From version 0.12, the only valid positional argument will be `data`, and passing other arguments without an explicit keyword will result in an error or misinterpretation.\n",
      "  warnings.warn(\n"
     ]
    },
    {
     "data": {
      "image/png": "[encoded data removed]",
      "text/plain": [
       "<Figure size 720x720 with 1 Axes>"
      ]
     },
     "metadata": {
      "needs_background": "light"
     },
     "output_type": "display_data"
    }
   ],
   "source": [
    "# Plot the relationship between k and the accuracy score\n",
    "plt.figure(figsize=(10,10))\n",
    "sns.lineplot(k_ranges, scores_list)\n",
    "plt.xlabel(\"Value of K for KNN\", size=20)\n",
    "plt.ylabel(\"Score Accuracy\", size=20)\n",
    "plt.title(\"Finding Best K Value\", size=20)\n",
    "plt.show()"
   ]
  },
  {
   "cell_type": "code",
   "execution_count": 213,
   "id": "1d3efae9",
   "metadata": {},
   "outputs": [
    {
     "name": "stdout",
     "output_type": "stream",
     "text": [
      "Accuracy Score of K=2: 0.5769230769230769\n",
      "Accuracy Score of K=6: 0.5769230769230769\n"
     ]
    }
   ],
   "source": [
    "# finding the best value of K\n",
    "print(\"Accuracy Score of K=2:\",scores[2])\n",
    "print(\"Accuracy Score of K=6:\",scores[6])"
   ]
  },
  {
   "cell_type": "code",
   "execution_count": 212,
   "id": "70039ba1",
   "metadata": {},
   "outputs": [
    {
     "data": {
      "text/plain": [
       "True"
      ]
     },
     "execution_count": 212,
     "metadata": {},
     "output_type": "execute_result"
    }
   ],
   "source": [
    "# K values of 2 and 6\n",
    "scores[2] == scores[6]"
   ]
  },
  {
   "cell_type": "markdown",
   "id": "b0dc7906",
   "metadata": {},
   "source": [
    "The best k values found for the K-Nearest Nieghbor classifier are 2 and 6. They both result in the same accuracy score."
   ]
  },
  {
   "cell_type": "code",
   "execution_count": 214,
   "id": "10f0eb6f",
   "metadata": {},
   "outputs": [],
   "source": [
    "# Removing variables X2 and X4\n",
    "X = data[['X1','X3', 'X5', 'X6']]\n",
    "y = data['Y']"
   ]
  },
  {
   "cell_type": "code",
   "execution_count": 215,
   "id": "c683bb34",
   "metadata": {},
   "outputs": [],
   "source": [
    "# train and test split\n",
    "X_train, X_test, y_train, y_test = train_test_split(X, y, test_size=0.2, random_state=42)"
   ]
  },
  {
   "cell_type": "code",
   "execution_count": 216,
   "id": "adc97eb3",
   "metadata": {},
   "outputs": [],
   "source": [
    "# K-Nearest Neighbor Classifier\n",
    "from sklearn.neighbors import KNeighborsClassifier\n",
    "\n",
    "#running from k=1 through k=25 and recording accuracy score\n",
    "k_ranges = range(1,26)\n",
    "scores = {}\n",
    "scores_list = []\n",
    "for k in k_ranges:\n",
    "    knn = KNeighborsClassifier(n_neighbors=k)\n",
    "    knn.fit(X_train, y_train)\n",
    "    y_pred = knn.predict(X_test)\n",
    "    scores[k] = accuracy_score(y_test, y_pred)\n",
    "    scores_list.append(accuracy_score(y_test, y_pred))"
   ]
  },
  {
   "cell_type": "code",
   "execution_count": 217,
   "id": "b79134f0",
   "metadata": {},
   "outputs": [
    {
     "name": "stderr",
     "output_type": "stream",
     "text": [
      "/opt/anaconda3/lib/python3.9/site-packages/seaborn/_decorators.py:36: FutureWarning: Pass the following variables as keyword args: x, y. From version 0.12, the only valid positional argument will be `data`, and passing other arguments without an explicit keyword will result in an error or misinterpretation.\n",
      "  warnings.warn(\n"
     ]
    },
    {
     "data": {
      "image/png": "[encoded data removed]",
      "text/plain": [
       "<Figure size 720x720 with 1 Axes>"
      ]
     },
     "metadata": {
      "needs_background": "light"
     },
     "output_type": "display_data"
    }
   ],
   "source": [
    "# Plot the relationship between k and the accuracy score\n",
    "plt.figure(figsize=(10,10))\n",
    "sns.lineplot(k_ranges, scores_list)\n",
    "plt.xlabel(\"Value of K for KNN\", size=20)\n",
    "plt.ylabel(\"Score Accuracy\", size=20)\n",
    "plt.title(\"Finding Best K Value\", size=20)\n",
    "plt.show()"
   ]
  },
  {
   "cell_type": "code",
   "execution_count": 218,
   "id": "3aa71b76",
   "metadata": {},
   "outputs": [
    {
     "data": {
      "text/plain": [
       "{1: 0.5769230769230769,\n",
       " 2: 0.5384615384615384,\n",
       " 3: 0.5,\n",
       " 4: 0.5,\n",
       " 5: 0.5769230769230769,\n",
       " 6: 0.5769230769230769,\n",
       " 7: 0.5,\n",
       " 8: 0.6153846153846154,\n",
       " 9: 0.5,\n",
       " 10: 0.7307692307692307,\n",
       " 11: 0.5,\n",
       " 12: 0.6153846153846154,\n",
       " 13: 0.5769230769230769,\n",
       " 14: 0.6538461538461539,\n",
       " 15: 0.5384615384615384,\n",
       " 16: 0.6153846153846154,\n",
       " 17: 0.5,\n",
       " 18: 0.6153846153846154,\n",
       " 19: 0.5384615384615384,\n",
       " 20: 0.5769230769230769,\n",
       " 21: 0.5,\n",
       " 22: 0.5384615384615384,\n",
       " 23: 0.5384615384615384,\n",
       " 24: 0.5384615384615384,\n",
       " 25: 0.5384615384615384}"
      ]
     },
     "execution_count": 218,
     "metadata": {},
     "output_type": "execute_result"
    }
   ],
   "source": [
    "# finding the best value of K\n",
    "scores"
   ]
  },
  {
   "cell_type": "markdown",
   "id": "7582a06c",
   "metadata": {},
   "source": [
    "The best value for k after removing the variables X2 and X4 is 10, resulting in an accuracy score of 0.731. "
   ]
  },
  {
   "cell_type": "markdown",
   "id": "d100faf4",
   "metadata": {},
   "source": [
    "### Random Forest"
   ]
  },
  {
   "cell_type": "code",
   "execution_count": 222,
   "id": "5c41ee06",
   "metadata": {},
   "outputs": [],
   "source": [
    "# random forest classifier\n",
    "from sklearn.ensemble import RandomForestClassifier\n",
    "clf = RandomForestClassifier()"
   ]
  },
  {
   "cell_type": "code",
   "execution_count": 220,
   "id": "c0aeba96",
   "metadata": {},
   "outputs": [],
   "source": [
    "# split data into features and target variable\n",
    "X = data.drop(columns=['Y'])\n",
    "y = data['Y']"
   ]
  },
  {
   "cell_type": "code",
   "execution_count": 221,
   "id": "32760104",
   "metadata": {},
   "outputs": [],
   "source": [
    "# train and test split\n",
    "X_train, X_test, y_train, y_test = train_test_split(X, y, test_size=0.2, random_state=42)"
   ]
  },
  {
   "cell_type": "code",
   "execution_count": 223,
   "id": "b9bb677a",
   "metadata": {},
   "outputs": [
    {
     "name": "stdout",
     "output_type": "stream",
     "text": [
      "Accuracy Score: 0.615\n"
     ]
    }
   ],
   "source": [
    "# fitting the model\n",
    "clf.fit(X_train, y_train)\n",
    "y_pred = clf.predict(X_test)\n",
    "print(f\"Accuracy Score: {accuracy_score(y_test, y_pred):.3f}\")"
   ]
  },
  {
   "cell_type": "code",
   "execution_count": 224,
   "id": "20cd672f",
   "metadata": {},
   "outputs": [],
   "source": [
    "# Removing variables X2 and X4\n",
    "X = data[['X1','X3', 'X5', 'X6']]\n",
    "y = data['Y']"
   ]
  },
  {
   "cell_type": "code",
   "execution_count": 225,
   "id": "f933b9d5",
   "metadata": {},
   "outputs": [],
   "source": [
    "# train and test split\n",
    "X_train, X_test, y_train, y_test = train_test_split(X, y, test_size=0.2, random_state=42)"
   ]
  },
  {
   "cell_type": "code",
   "execution_count": 226,
   "id": "a04c7350",
   "metadata": {},
   "outputs": [
    {
     "name": "stdout",
     "output_type": "stream",
     "text": [
      "Accuracy Score: 0.692\n"
     ]
    }
   ],
   "source": [
    "# fitting the model\n",
    "clf.fit(X_train, y_train)\n",
    "y_pred = clf.predict(X_test)\n",
    "print(f\"Accuracy Score: {accuracy_score(y_test, y_pred):.3f}\")"
   ]
  },
  {
   "cell_type": "markdown",
   "id": "9c030a78",
   "metadata": {},
   "source": [
    "## Conclusion"
   ]
  },
  {
   "cell_type": "markdown",
   "id": "8bdfba1f",
   "metadata": {},
   "source": [
    "The __K-Nearest Neighbors (KNN)__ model produced the best results with an accuracy score of 0.731. Also, from the correlations of the features with our target variable. I came to the conclusion that to make our survey easier and without affecting our analysis and prediction to a minimum, we can disregard two variables which are:\n",
    "1. X2 (Contents of my order was as I expected).\n",
    "2. X4 (I paid a good price for my order)."
   ]
  },
  {
   "cell_type": "code",
   "execution_count": null,
   "id": "538d69d5",
   "metadata": {},
   "outputs": [],
   "source": []
  }
 ],
 "metadata": {
  "kernelspec": {
   "display_name": "Python 3 (ipykernel)",
   "language": "python",
   "name": "python3"
  },
  "language_info": {
   "codemirror_mode": {
    "name": "ipython",
    "version": 3
   },
   "file_extension": ".py",
   "mimetype": "text/x-python",
   "name": "python",
   "nbconvert_exporter": "python",
   "pygments_lexer": "ipython3",
   "version": "3.9.7"
  }
 },
 "nbformat": 4,
 "nbformat_minor": 5
}
